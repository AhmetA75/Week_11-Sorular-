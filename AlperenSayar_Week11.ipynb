{
  "nbformat": 4,
  "nbformat_minor": 0,
  "metadata": {
    "colab": {
      "provenance": [],
      "authorship_tag": "ABX9TyM21FGd+E82UhCK9e6u4hTk",
      "include_colab_link": true
    },
    "kernelspec": {
      "name": "python3",
      "display_name": "Python 3"
    },
    "language_info": {
      "name": "python"
    }
  },
  "cells": [
    {
      "cell_type": "markdown",
      "metadata": {
        "id": "view-in-github",
        "colab_type": "text"
      },
      "source": [
        "<a href=\"https://colab.research.google.com/github/AhmetA75/Week_11-Sorular-/blob/main/AlperenSayar_Week11.ipynb\" target=\"_parent\"><img src=\"https://colab.research.google.com/assets/colab-badge.svg\" alt=\"Open In Colab\"/></a>"
      ]
    },
    {
      "cell_type": "markdown",
      "source": [
        "Ödev1) Boş Copy Nedir? \".Copy\" Nedir, yazdıktan sonra neleri değiştirir, neleri değiştirmez ?\n",
        "\n",
        "Boş copy sadece = kullanılarak yapılan işlemdir"
      ],
      "metadata": {
        "id": "0HkCUH07keUY"
      }
    },
    {
      "cell_type": "markdown",
      "source": [
        "DeepCopy Nedir? Shallow Copy Nedir? Bunlar oluşturduğumuz df'de neleri değiştirir?\n",
        "\n",
        "Shallow kopyalama işlemi değişkenin iç değerleri referans bazlı taşır. Ancak, değişkenin kendisi farklı bir adreste yer alır. "
      ],
      "metadata": {
        "id": "E-kjDzJzk4ju"
      }
    },
    {
      "cell_type": "code",
      "source": [
        "# Shallow Copy\n",
        "import copy\n",
        " \n",
        "eski_list = [[10, 20.2, 30], [-40, 50, 60], [70, 80, 'Test']]\n",
        "yeni_list = copy.copy(eski_list)\n",
        " \n",
        "print('Eski Liste:', eski_list)\n",
        "print('Eski liste ID si:', id(eski_list))\n",
        "print('Eski liste 1. eleman ID si', id(eski_list[0]))\n",
        " \n",
        "print('Yeni Liste:', yeni_list)\n",
        "print('Yeni Liste ID si:', id(yeni_list))\n",
        "print('Yeni liste 1. eleman ID si', id(yeni_list[0]))"
      ],
      "metadata": {
        "colab": {
          "base_uri": "https://localhost:8080/"
        },
        "id": "E23zQCD5lD_p",
        "outputId": "fb08ebca-c4c6-4ac1-be6c-ec58d8819268"
      },
      "execution_count": 1,
      "outputs": [
        {
          "output_type": "stream",
          "name": "stdout",
          "text": [
            "Eski Liste: [[10, 20.2, 30], [-40, 50, 60], [70, 80, 'Test']]\n",
            "Eski liste ID si: 140189610435584\n",
            "Eski liste 1. eleman ID si 140189611841920\n",
            "Yeni Liste: [[10, 20.2, 30], [-40, 50, 60], [70, 80, 'Test']]\n",
            "Yeni Liste ID si: 140189610437952\n",
            "Yeni liste 1. eleman ID si 140189611841920\n"
          ]
        }
      ]
    },
    {
      "cell_type": "markdown",
      "source": [
        "Shallow kopyalama her ne kadar yeni bir bellek bölgesi açsa da, taşınan öğeler referans türünden taşınır"
      ],
      "metadata": {
        "id": "IFgWiG-9lsmF"
      }
    },
    {
      "cell_type": "code",
      "source": [
        "A = [[10, 20.2, 30], [-40, 50, 60], [70, 80, 'Test']]\n",
        "B = copy.deepcopy(A)\n",
        " \n",
        "print('Eski Liste:', A)\n",
        "print('Eski liste ID si:', id(A))\n",
        "print('Eski liste 1. eleman ID si', id(A[0]))\n",
        " \n",
        "print('Yeni Liste:', B)\n",
        "print('Yeni Liste ID si:', id(B))\n",
        "print('Yeni liste 1. eleman ID si:', id(B[0]))"
      ],
      "metadata": {
        "colab": {
          "base_uri": "https://localhost:8080/"
        },
        "id": "5iTlLX5DlxJY",
        "outputId": "f6e60e44-4f2e-4df9-ca74-ad4a272321a8"
      },
      "execution_count": 5,
      "outputs": [
        {
          "output_type": "stream",
          "name": "stdout",
          "text": [
            "Eski Liste: [[10, 20.2, 30], [-40, 50, 60], [70, 80, 'Test']]\n",
            "Eski liste ID si: 140189611813312\n",
            "Eski liste 1. eleman ID si 140189610434752\n",
            "Yeni Liste: [[10, 20.2, 30], [-40, 50, 60], [70, 80, 'Test']]\n",
            "Yeni Liste ID si: 140189611842624\n",
            "Yeni liste 1. eleman ID si: 140189623061312\n"
          ]
        }
      ]
    },
    {
      "cell_type": "markdown",
      "source": [
        "Ödev3) \"np.Log()\" doğal logoritma dediğimiz şekilde mi gelir yoksa log 2 tabanında mı gelir?"
      ],
      "metadata": {
        "id": "giCOmVALnRCG"
      }
    },
    {
      "cell_type": "code",
      "source": [
        "import numpy as np\n",
        "e = np.e\n",
        "print(np.log(2))\n",
        "print(np.log(10))\n",
        "print(np.log(e))\n",
        "# Görüldüğü gibi doğal logaritma e tabanındadır ln dir"
      ],
      "metadata": {
        "colab": {
          "base_uri": "https://localhost:8080/"
        },
        "id": "dsKTDHAYnPKS",
        "outputId": "c9fbfd25-48f5-4ebd-fcce-c23e5ebbdc8b"
      },
      "execution_count": 9,
      "outputs": [
        {
          "output_type": "stream",
          "name": "stdout",
          "text": [
            "0.6931471805599453\n",
            "2.302585092994046\n",
            "1.0\n"
          ]
        }
      ]
    },
    {
      "cell_type": "markdown",
      "source": [
        "Ödev4) Yeo-Johnson çok büyük değerlerde uygulanamıyor mu? Neden Income değerlerindeki \"10\" olan değerimizi arttırdığımızda(1000 yaptığımızda) çıktımızda bozulmalar oluyor?\n",
        "\n",
        "Yeo - Johnson sadece pozitif değerlere uygulanabilir"
      ],
      "metadata": {
        "id": "PvJWUSafoiCK"
      }
    },
    {
      "cell_type": "code",
      "source": [],
      "metadata": {
        "id": "MuiVSUECoHxM"
      },
      "execution_count": null,
      "outputs": []
    }
  ]
}